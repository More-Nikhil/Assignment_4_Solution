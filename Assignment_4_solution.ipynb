{
 "cells": [
  {
   "cell_type": "markdown",
   "id": "d8d5b75a-49c1-4ebc-acd3-9d1b761d7e62",
   "metadata": {},
   "source": [
    "1. What exactly is []?\n",
    "\n",
    "Ans: [] Represents empty list value, which is list value that contains no teams. Similarly \"\" contains empty string value."
   ]
  },
  {
   "cell_type": "markdown",
   "id": "5306aa20-c72f-4c7a-8da6-a8cabe1a4b74",
   "metadata": {},
   "source": [
    "2. In a list of values stored in a variable called spam, how would you assign the value 'hello' as the third value? (Assume [2, 4, 6, 8, 10] are in spam.)\n",
    "\n",
    "Ans: spam[2] = \"Hello\"   As list starts count from 0, so first value index considered as 0 then 1 and 2."
   ]
  },
  {
   "cell_type": "code",
   "execution_count": 3,
   "id": "3cf46983-1026-40b8-8aa4-87fd36515fba",
   "metadata": {},
   "outputs": [
    {
     "name": "stdout",
     "output_type": "stream",
     "text": [
      "[2, 4, 'Hello', 8, 10]\n"
     ]
    }
   ],
   "source": [
    "spam = [2, 4, 6, 8, 10]\n",
    "spam[2] = \"Hello\"\n",
    "print(spam)"
   ]
  },
  {
   "cell_type": "code",
   "execution_count": 4,
   "id": "9afbbc23-6a53-447b-a30c-0f4e94d32888",
   "metadata": {},
   "outputs": [],
   "source": [
    "spam = ['a,','b','c','d']"
   ]
  },
  {
   "cell_type": "markdown",
   "id": "bda9fb59-cb18-47b0-bc3b-495e275309e9",
   "metadata": {},
   "source": [
    "3. What is the value of spam[int(int('3' * 2) / 11)]?\n",
    "\n",
    "Ans: spam[3] = 'd' .. 3 is string so 3*2 = 33 and 33/11 = 3.. now 3 converted into int."
   ]
  },
  {
   "cell_type": "code",
   "execution_count": 5,
   "id": "4abca8e2-5f17-421d-888d-1e0b684dd14b",
   "metadata": {},
   "outputs": [
    {
     "data": {
      "text/plain": [
       "'d'"
      ]
     },
     "execution_count": 5,
     "metadata": {},
     "output_type": "execute_result"
    }
   ],
   "source": [
    "spam[int(int('3' * 2) / 11)]"
   ]
  },
  {
   "cell_type": "markdown",
   "id": "7b267e9e-7b06-46d1-9bf3-2c6a07e911bd",
   "metadata": {},
   "source": [
    "4. What is the value of spam[-1]?\n",
    "\n",
    "Ans: spam[-1] = 'd' as list suppots negative index."
   ]
  },
  {
   "cell_type": "markdown",
   "id": "2bc32581-1628-4485-a983-9e49c8d5e054",
   "metadata": {},
   "source": [
    "5. What is the value of spam[:2]?\n",
    "\n",
    "Ans: spam[:2] = ['a,', 'b'] ..As starting itam number or index is not mentioned so it is considered as 0 and end index number given as 2 but in list mentioned end value or index is excluded.  "
   ]
  },
  {
   "cell_type": "code",
   "execution_count": 6,
   "id": "08c9740b-785b-4ef2-98c8-30306432a6bb",
   "metadata": {},
   "outputs": [
    {
     "data": {
      "text/plain": [
       "['a,', 'b']"
      ]
     },
     "execution_count": 6,
     "metadata": {},
     "output_type": "execute_result"
    }
   ],
   "source": [
    "spam[:2]"
   ]
  },
  {
   "cell_type": "code",
   "execution_count": 16,
   "id": "4e689872-1c77-4c2c-b1fa-a4dd4c2ffac2",
   "metadata": {},
   "outputs": [],
   "source": [
    "bacon = [3.14, 'cat', 11, 'cat', True] "
   ]
  },
  {
   "cell_type": "markdown",
   "id": "7ea0bd8d-4ce4-418a-923d-3702deb8d825",
   "metadata": {},
   "source": [
    "6. What is the value of bacon.index('cat')?\n",
    "\n",
    "Ans: bacon.index('cat') is shown index number of 'cat' and index is 1."
   ]
  },
  {
   "cell_type": "code",
   "execution_count": 12,
   "id": "dbebcff1-ecd4-431a-83a8-3cc7ebb153ba",
   "metadata": {},
   "outputs": [
    {
     "data": {
      "text/plain": [
       "1"
      ]
     },
     "execution_count": 12,
     "metadata": {},
     "output_type": "execute_result"
    }
   ],
   "source": [
    "bacon.index('cat') "
   ]
  },
  {
   "cell_type": "markdown",
   "id": "01e3e3f3-7317-41af-be68-4daa0e38d0fe",
   "metadata": {},
   "source": [
    "7. How does bacon.append(99) change the look of the list value in bacon?\n",
    "\n",
    "Ans: bacon.append(99) it append or add 99 in lacon list. bacon = [3.14, 'cat', 11, 'cat', True, 99]"
   ]
  },
  {
   "cell_type": "code",
   "execution_count": 17,
   "id": "a728355b-cc9c-419a-8bb7-2f22a46f6d76",
   "metadata": {},
   "outputs": [
    {
     "name": "stdout",
     "output_type": "stream",
     "text": [
      "[3.14, 'cat', 11, 'cat', True, 99]\n"
     ]
    }
   ],
   "source": [
    "bacon.append(99)\n",
    "print(bacon)"
   ]
  },
  {
   "cell_type": "markdown",
   "id": "d424a42f-36e2-470b-ae82-cdf7e2dd1359",
   "metadata": {},
   "source": [
    "8. How does bacon.remove('cat') change the look of the list in bacon?\n",
    "\n",
    "Ans: bacon.remove('cat') remoes first 'cat' value from list. if you exicute it one more time then it removes second 'cat' as new list contains only one 'cat' value."
   ]
  },
  {
   "cell_type": "code",
   "execution_count": 18,
   "id": "f67c6cfb-5721-41c5-9460-f211bbe97a68",
   "metadata": {},
   "outputs": [
    {
     "name": "stdout",
     "output_type": "stream",
     "text": [
      "[3.14, 11, 'cat', True, 99]\n"
     ]
    }
   ],
   "source": [
    "bacon.remove('cat')\n",
    "print(bacon)"
   ]
  },
  {
   "cell_type": "markdown",
   "id": "37e62890-2c25-4914-9451-ba6eda7a17b4",
   "metadata": {},
   "source": [
    "9. What are the list concatenation and list replication operators?\n",
    "\n",
    "Ans: Operator for list concatenation is + and operator for list replication is *"
   ]
  },
  {
   "cell_type": "markdown",
   "id": "edac5059-b43e-47ce-b591-ab918f466904",
   "metadata": {},
   "source": [
    "10. What is difference between the list methods append() and insert()?\n",
    "\n",
    "Ans: .appen() adds item at the end of list and .insert() inserts item at specified position in list."
   ]
  },
  {
   "cell_type": "markdown",
   "id": "cc7805c1-c15d-4167-aa49-c0171b58f91f",
   "metadata": {},
   "source": [
    "11. What are the two methods for removing items from a list?\n",
    "\n",
    "Ans: 1] remove() removes first element matches in a list. \n",
    "     2] pop() removes specified index element."
   ]
  },
  {
   "cell_type": "markdown",
   "id": "a1e77678-0386-4cdb-bec7-49cde93d648b",
   "metadata": {},
   "source": [
    "12. Describe how list values and string values are identical.\n",
    "\n",
    "Ans: 1] Both string and list have length it can pass through len() function. \n",
    "     2] String and list is having sequences.\n",
    "     3] Both string and list have position. String is having potion of character and list is having position of item."
   ]
  },
  {
   "cell_type": "markdown",
   "id": "1e2a86d1-5b03-4025-bc13-55c3de9a7db8",
   "metadata": {},
   "source": [
    "13. What's the difference between tuples and lists?\n",
    "\n",
    "Ans: tuples are immutable while list is mutable."
   ]
  },
  {
   "cell_type": "markdown",
   "id": "40fcc535-1aac-4075-ae24-5b8c4c345b9a",
   "metadata": {},
   "source": [
    "14. How do you type a tuple value that only contains the integer 42?\n",
    "\n",
    "Ans: tuple(42,) ..comma is mandatory other wise it consider as integer."
   ]
  },
  {
   "cell_type": "code",
   "execution_count": 22,
   "id": "4576e263-b653-474a-9214-16f98b522a22",
   "metadata": {},
   "outputs": [
    {
     "name": "stdout",
     "output_type": "stream",
     "text": [
      "<class 'int'>\n",
      "<class 'tuple'>\n"
     ]
    }
   ],
   "source": [
    "tuple1=(42)\n",
    "tuple2=(42,)\n",
    "print(type(tuple1))\n",
    "print(type(tuple2))"
   ]
  },
  {
   "cell_type": "markdown",
   "id": "b04de0ca-d95f-4ba0-9be8-4bc03b312bb1",
   "metadata": {},
   "source": [
    "15. How do you get a list value's tuple form? How do you get a tuple value's list form?\n",
    "\n",
    "Ans: By converting list into tuple and tuple into list by usinf tuple() and list() function."
   ]
  },
  {
   "cell_type": "markdown",
   "id": "ad78f0cc-752b-41e5-9786-523b9da6b66f",
   "metadata": {},
   "source": [
    "16. Variables that \"contain\" list values are not necessarily lists themselves. Instead, what do they contain?\n",
    "\n",
    "Ans: They contains references to list values."
   ]
  },
  {
   "cell_type": "markdown",
   "id": "a9e64f28-489b-4c9b-a87b-244ec5ac559d",
   "metadata": {},
   "source": [
    "17. How do you distinguish between copy.copy() and copy.deepcopy()?\n",
    "\n",
    "Ans: The copy.copy() function will do a shallow copy of a list, while the copy.deepcopy() function will do a deep copy of a list. That is, only copy.deepcopy() will duplicate any lists inside the list."
   ]
  }
 ],
 "metadata": {
  "kernelspec": {
   "display_name": "Python 3 (ipykernel)",
   "language": "python",
   "name": "python3"
  },
  "language_info": {
   "codemirror_mode": {
    "name": "ipython",
    "version": 3
   },
   "file_extension": ".py",
   "mimetype": "text/x-python",
   "name": "python",
   "nbconvert_exporter": "python",
   "pygments_lexer": "ipython3",
   "version": "3.10.6"
  }
 },
 "nbformat": 4,
 "nbformat_minor": 5
}
